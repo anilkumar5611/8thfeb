{
 "cells": [
  {
   "cell_type": "markdown",
   "id": "38909982",
   "metadata": {},
   "source": [
    "## Q1"
   ]
  },
  {
   "cell_type": "code",
   "execution_count": 2,
   "id": "3d5ed601",
   "metadata": {},
   "outputs": [],
   "source": [
    "# In object-oriented programming (OOP), abstraction is one of the fundamental principles that allows \n",
    "# you to model real-world entities as objects with simplified and relevant characteristics. \n",
    "# It involves hiding the complex implementation details of an object while exposing only the \n",
    "# necessary features and behaviors that are relevant to the problem you're trying to solve. \n",
    "# Abstraction helps in managing complexity, improving code maintainability, \n",
    "# and enhancing code reusability.\n",
    "\n",
    "# Here's an explanation of abstraction with an example:"
   ]
  },
  {
   "cell_type": "code",
   "execution_count": 3,
   "id": "3875f561",
   "metadata": {},
   "outputs": [],
   "source": [
    "class Animal:\n",
    "    def __init__(self, name, age):\n",
    "        self.name = name\n",
    "        self.age = age\n",
    "\n",
    "    def makeSound(self):\n",
    "        pass  \n"
   ]
  },
  {
   "cell_type": "code",
   "execution_count": 4,
   "id": "1fa74b25",
   "metadata": {},
   "outputs": [],
   "source": [
    "class Lion(Animal):\n",
    "    def makeSound(self):\n",
    "        return \"Roar!\"\n",
    "\n",
    "class Elephant(Animal):\n",
    "    def makeSound(self):\n",
    "        return \"Trumpet!\"\n",
    "\n",
    "class Tiger(Animal):\n",
    "    def makeSound(self):\n",
    "        return \"Roar!\"\n"
   ]
  },
  {
   "cell_type": "code",
   "execution_count": 5,
   "id": "d0d45138",
   "metadata": {},
   "outputs": [
    {
     "name": "stdout",
     "output_type": "stream",
     "text": [
      "Simba says: Roar!\n",
      "Dumbo says: Trumpet!\n"
     ]
    }
   ],
   "source": [
    "lion = Lion(\"Simba\", 5)\n",
    "elephant = Elephant(\"Dumbo\", 10)\n",
    "\n",
    "print(f\"{lion.name} says: {lion.makeSound()}\")\n",
    "print(f\"{elephant.name} says: {elephant.makeSound()}\")\n"
   ]
  },
  {
   "cell_type": "code",
   "execution_count": 7,
   "id": "c1c3f333",
   "metadata": {},
   "outputs": [],
   "source": [
    "# Q2-- # Abstraction and encapsulation are two fundamental concepts in object-oriented programming (OOP), and while they are related, they serve different purposes and have distinct characteristics. Let's differentiate between the two and explain each with examples:\n",
    "\n",
    "# Abstraction:\n",
    "\n",
    "# Purpose: Abstraction focuses on hiding complex implementation details and showing only the essential \n",
    "#     features and behaviors of an object. It simplifies the representation of real-world entities by \n",
    "#     emphasizing what an object does rather than how it does it.\n",
    "# Example: In the previous answer, I explained abstraction with the example of representing animals\n",
    "#     in a zoo using an Animal base class. The Animal class defines essential properties and behaviors \n",
    "#     common to all animals, such as name and age, and declares an abstract method makeSound() that \n",
    "#     must be implemented by subclasses. This abstract class abstracts away the details of how each \n",
    "#     animal makes a sound while exposing the fact that animals can make sounds."
   ]
  },
  {
   "cell_type": "code",
   "execution_count": 8,
   "id": "d0912326",
   "metadata": {},
   "outputs": [],
   "source": [
    "class Animal:\n",
    "    def __init__(self, name, age):\n",
    "        self.name = name\n",
    "        self.age = age\n",
    "\n",
    "    def makeSound(self):\n",
    "        pass  # This is an abstract method, to be implemented by subclasses\n"
   ]
  },
  {
   "cell_type": "code",
   "execution_count": 9,
   "id": "be070f6b",
   "metadata": {},
   "outputs": [],
   "source": [
    "# Encapsulation:\n",
    "\n",
    "# Purpose: Encapsulation is the practice of bundling the data (attributes) and methods (functions)\n",
    "#     that operate on that data into a single unit called a class. It restricts direct access to an\n",
    "#     object's internal state and enforces controlled access through methods. It helps in data hiding \n",
    "#     and maintaining the integrity of an object's state.\n",
    "# Example: Let's take a simple example of encapsulation using a class to represent a bank account:"
   ]
  },
  {
   "cell_type": "code",
   "execution_count": 10,
   "id": "b53528b1",
   "metadata": {},
   "outputs": [],
   "source": [
    "class BankAccount:\n",
    "    def __init__(self, account_number, balance):\n",
    "        self.__account_number = account_number  # Private attribute\n",
    "        self.__balance = balance  # Private attribute\n",
    "\n",
    "    def deposit(self, amount):\n",
    "        if amount > 0:\n",
    "            self.__balance += amount\n",
    "\n",
    "    def withdraw(self, amount):\n",
    "        if amount > 0 and amount <= self.__balance:\n",
    "            self.__balance -= amount\n",
    "\n",
    "    def get_balance(self):\n",
    "        return self.__balance\n",
    "\n",
    "    def get_account_number(self):\n",
    "        return self.__account_number\n"
   ]
  },
  {
   "cell_type": "markdown",
   "id": "b5694982",
   "metadata": {},
   "source": [
    "## Q3"
   ]
  },
  {
   "cell_type": "code",
   "execution_count": 11,
   "id": "94a4a17f",
   "metadata": {},
   "outputs": [],
   "source": [
    "# In Python, the abc module stands for \"Abstract Base Classes.\" It provides a way to define abstract\n",
    "# base classes in Python and enforce the implementation of certain methods in subclasses. Abstract base \n",
    "# classes are used to define a common interface for a group of related classes, ensuring that those \n",
    "# classes implement specific methods or behaviors.\n",
    "\n",
    "# The abc module is used for the following purposes:\n",
    "\n",
    "# Defining Abstract Base Classes: You can use the abc module to create abstract base classes by \n",
    "#     inheriting from the ABC (Abstract Base Class) metaclass. An abstract base class is a class \n",
    "#     that cannot be instantiated directly but serves as a blueprint for other classes to inherit\n",
    "#     from.\n",
    "\n",
    "# Enforcing Method Implementation: Abstract base classes allow you to define abstract methods, \n",
    "#     which are methods declared in the base class but without implementation. Subclasses that \n",
    "#     inherit from an abstract base class are required to provide concrete implementations for \n",
    "#     these abstract methods. This enforces a specific interface or contract for the subclasses.\n",
    "\n",
    "# Here's a simple example of using the abc module to create an abstract base class:"
   ]
  },
  {
   "cell_type": "code",
   "execution_count": 12,
   "id": "813ee058",
   "metadata": {},
   "outputs": [],
   "source": [
    "from abc import ABC, abstractmethod\n",
    "\n",
    "class Shape(ABC):  # Shape is an abstract base class\n",
    "    @abstractmethod\n",
    "    def area(self):\n",
    "        pass\n",
    "\n",
    "    @abstractmethod\n",
    "    def perimeter(self):\n",
    "        pass\n"
   ]
  },
  {
   "cell_type": "code",
   "execution_count": 13,
   "id": "4fe6420a",
   "metadata": {},
   "outputs": [],
   "source": [
    "class Circle(Shape):\n",
    "    def __init__(self, radius):\n",
    "        self.radius = radius\n",
    "\n",
    "    def area(self):\n",
    "        return 3.14 * self.radius * self.radius\n",
    "\n",
    "    def perimeter(self):\n",
    "        return 2 * 3.14 * self.radius\n"
   ]
  },
  {
   "cell_type": "markdown",
   "id": "6bd83891",
   "metadata": {},
   "source": [
    "## Q4"
   ]
  },
  {
   "cell_type": "code",
   "execution_count": 14,
   "id": "f1d0c3c2",
   "metadata": {},
   "outputs": [],
   "source": [
    "# Data abstraction in programming refers to the concept of hiding the complex implementation details of\n",
    "# data structures and providing a simplified and consistent interface for working with the data. \n",
    "# It involves exposing only the necessary information and operations while keeping the internal data \n",
    "# representation hidden. Achieving data abstraction can be done through the following techniques:\n",
    "\n",
    "# Use of Classes and Objects (Object-Oriented Programming):\n",
    "\n",
    "# In object-oriented programming (OOP), you can create classes to represent data structures and \n",
    "# encapsulate the data members (attributes) and methods (functions) that operate on that data within\n",
    "# the class.\n",
    "# Provide access to the data members through getter and setter methods, which allow controlled access \n",
    "# to the data and enable validation or transformation of data as needed.\n",
    "# Hide the internal details of the data structure by marking the data members as private (usually using \n",
    "# naming conventions like prefixing with underscores) and providing public methods for accessing and\n",
    "# modifying the data.\n",
    "# Example: A class representing a bank account can hide the account balance as a private attribute and \n",
    "#     provide methods like get_balance() and deposit() to interact with the balance.\n",
    "# Use of Abstract Data Types (ADTs):\n",
    "\n",
    "# Abstract Data Types are high-level descriptions of data structures along with a set of operations \n",
    "# that can be performed on them, without specifying the internal details.\n",
    "# ADTs provide a clear separation between the interface (functions and operations) and the\n",
    "# implementation (how the data is stored and manipulated).\n",
    "# Examples of ADTs include lists, stacks, queues, and dictionaries. Users of these data types \n",
    "# don't need to know how they are implemented, only how to use them.\n",
    "# Information Hiding and Encapsulation:\n",
    "\n",
    "# Hide the internal details of a data structure by encapsulating them within a class or module.\n",
    "# Expose a limited and well-defined set of public methods or functions that users can use to interact\n",
    "# with the data structure.\n",
    "# Ensure that the internal state of the data structure cannot be accessed or modified directly from \n",
    "# outside the encapsulating entity, enforcing controlled access.\n",
    "# Data Validation and Error Handling:\n",
    "\n",
    "# Implement data validation checks within the interface methods to ensure that data is used correctly \n",
    "# and consistently.\n",
    "# Handle errors and exceptions gracefully to provide meaningful feedback to users when data manipulation fails due to invalid input or other issues.\n",
    "# Documentation:\n",
    "\n",
    "# Provide clear and comprehensive documentation for the data structure, including descriptions of its\n",
    "# purpose, usage, and available methods.\n",
    "# Document the expected behavior, input parameters, and return values of each method to guide users in\n",
    "# using the data structure correctly.\n",
    "# Use of Interfaces and Abstract Classes:\n",
    "\n",
    "# Define interfaces or abstract classes that specify a contract for data structures. Subclasses or \n",
    "# implementations of these interfaces must adhere to the specified contract.\n",
    "# Users can work with objects through the interface, allowing them to treat different implementations \n",
    "# of the same interface interchangeably.\n",
    "# By applying these techniques, you can achieve data abstraction in your programs, making your code \n",
    "# more modular, maintainable, and user-friendly while hiding the complexities of data representation \n",
    "# and manipulation."
   ]
  },
  {
   "cell_type": "markdown",
   "id": "e676289e",
   "metadata": {},
   "source": [
    "## Q5---"
   ]
  },
  {
   "cell_type": "code",
   "execution_count": 15,
   "id": "ab9303f9",
   "metadata": {},
   "outputs": [],
   "source": [
    "# No, you cannot create an instance of an abstract class in Python. Abstract classes are meant \n",
    "# to be base classes that provide a blueprint \n",
    "# for other classes to inherit from"
   ]
  },
  {
   "cell_type": "code",
   "execution_count": 16,
   "id": "eaa4d293",
   "metadata": {},
   "outputs": [],
   "source": [
    "from abc import ABC, abstractmethod\n",
    "\n",
    "class MyAbstractClass(ABC):\n",
    "    @abstractmethod\n",
    "    def abstract_method(self):\n",
    "        pass\n",
    "\n",
    "class MyConcreteClass(MyAbstractClass):\n",
    "    def abstract_method(self):\n",
    "        return \"This is a concrete implementation of the abstract method.\"\n"
   ]
  },
  {
   "cell_type": "code",
   "execution_count": 17,
   "id": "f3c871b7",
   "metadata": {},
   "outputs": [
    {
     "name": "stdout",
     "output_type": "stream",
     "text": [
      "This is a concrete implementation of the abstract method.\n"
     ]
    }
   ],
   "source": [
    "# Creating an instance of the concrete subclass\n",
    "instance = MyConcreteClass()\n",
    "result = instance.abstract_method()\n",
    "print(result)\n"
   ]
  },
  {
   "cell_type": "code",
   "execution_count": null,
   "id": "1e8fbc06",
   "metadata": {},
   "outputs": [],
   "source": []
  }
 ],
 "metadata": {
  "kernelspec": {
   "display_name": "Python 3 (ipykernel)",
   "language": "python",
   "name": "python3"
  },
  "language_info": {
   "codemirror_mode": {
    "name": "ipython",
    "version": 3
   },
   "file_extension": ".py",
   "mimetype": "text/x-python",
   "name": "python",
   "nbconvert_exporter": "python",
   "pygments_lexer": "ipython3",
   "version": "3.11.2"
  }
 },
 "nbformat": 4,
 "nbformat_minor": 5
}
